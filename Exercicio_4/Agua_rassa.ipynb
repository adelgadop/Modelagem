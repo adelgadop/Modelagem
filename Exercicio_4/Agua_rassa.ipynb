{
 "cells": [
  {
   "cell_type": "markdown",
   "metadata": {},
   "source": [
    "# Água Rasa\n",
    "O modelo de água rasa é usado na modelagem atmosférica e oceanográfica para uma enorme variedade de problemas.  Na atmosfera, por ex., uma fonte de calor na atmosfera (por exemplo, um furacão) pode ser vista como uma fonte de massa no modelo de água rasa.  No oceano, o gatilho para formação do ENSO pode ser representado por uma transferência de momentum na componente zonal do vento da região equatorial, representativa do efeito de um transiente na intensidade dos ventos alísios.  Como esses problemas são altamente dependentes da capacidade do modelo descrever o processo de dispersão de energia, vamos fazer simulações com o modelo de água rasa 2D:\n",
    "\n",
    "$\\frac{\\partial u}{\\partial t}+u\\frac{\\partial u}{\\partial x} + v\\frac{\\partial u}{\\partial y} - fv + \\frac{\\partial \\phi}{\\partial x} = F_u$\n",
    "\n",
    "$\\frac{\\partial v}{\\partial t}+u\\frac{\\partial v}{\\partial x} + v\\frac{\\partial v}{\\partial y} - fu + \\frac{\\partial \\phi}{\\partial y} = F_v$\n",
    "\n",
    "$\\frac{\\partial \\phi}{\\partial t}+u\\frac{\\partial \\phi}{\\partial x} + v\\frac{\\partial \\phi}{\\partial y} +\\phi.Div(V) = F_{\\phi}$\n",
    "\n",
    "Onde $F_u$, $F_v$, $F_{\\phi}$ representam fontes de momentum zonal, meridional e massa, respectivamente.\n",
    "\n",
    "a. Resolva em 2D o modelo de água rasa (1) na versão linear, com estado básico U = 0, supondo que \n",
    "- i. f = 0\n",
    "- f = f$_o$ = constante (assuma que a latitude é 20°S)\n",
    "- f = $\\beta$y (ou seja, o plano beta equatorial). Suponha que a latitude máxima seja de +/- 4000 km, com dx=dy=100 km. Na longitude também considere o domínio +/- 4000 km.\n",
    "- Opções de fonte (um problema meteorológico e outro oceanográfico) - escolha uma deles:\n",
    "   - $\\bf A.$ Aplique a fonte de massa na atmosfera constante no tempo. A estrutura espacial da fonte é dada por uma Gaussiana (use Nr$_x$=Nr$_y$= 4 e 10 - isto é, fonte pequena e fonte grande). Considere que a fonte esteja centrada na latitude de +1500 km e longitude 0 (centro da malha em x). Use o domínio horizontal de 8000 km. Use CF aberta radiacional nas fronteiras. Utilize `H=250` m e integre por 3 dias.\n",
    "   - $\\bf B.$ Fonte de momentum zonal, constante (vento forçante de leste), com gaussiana centrada no equador, alongada na direção zonal. (Nr$_x$=10 e Nr$_y$=4) para representar a troca de momentum (representado o processo de formação do ENSO). Centre a fonte de momentum na longitude 0. Use CF radiacional na fronteira oeste, norte e sul e CF rígida na fronteira leste. Use `H = 1 m` (sim, um metro!). Integre até que a onda que vai para leste atinja a costa e comece a refletir para o centro da grade. Como vai demorar muito tempo, faça os testes do modelo com `H = 250 m`. Só depois que você tiver removido todas as \"funcionalidades não documentadas\" do modelo (i.e., os \"bugs\"), faça uma integração com o H mais realista."
   ]
  },
  {
   "cell_type": "markdown",
   "metadata": {},
   "source": []
  },
  {
   "cell_type": "code",
   "execution_count": null,
   "metadata": {},
   "outputs": [],
   "source": []
  }
 ],
 "metadata": {
  "celltoolbar": "Slideshow",
  "kernelspec": {
   "display_name": "Python 3.9.1 64-bit",
   "language": "python",
   "name": "python3"
  },
  "language_info": {
   "codemirror_mode": {
    "name": "ipython",
    "version": 3
   },
   "file_extension": ".py",
   "mimetype": "text/x-python",
   "name": "python",
   "nbconvert_exporter": "python",
   "pygments_lexer": "ipython3",
   "version": "3.9.1"
  },
  "vscode": {
   "interpreter": {
    "hash": "aee8b7b246df8f9039afb4144a1f6fd8d2ca17a180786b69acc140d282b71a49"
   }
  }
 },
 "nbformat": 4,
 "nbformat_minor": 4
}
