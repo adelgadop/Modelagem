{
 "cells": [
  {
   "cell_type": "markdown",
   "metadata": {},
   "source": [
    "# Água Rasa\n",
    "O modelo de água rasa é usado na modelagem atmosférica e oceanográfica para uma enorme variedade de problemas.  Na atmosfera, por ex., uma fonte de calor na atmosfera (por exemplo, um furacão) pode ser vista como uma fonte de massa no modelo de água rasa.  No oceano, o gatilho para formação do ENSO pode ser representado por uma transferência de momentum na componente zonal do vento da região equatorial, representativa do efeito de um transiente na intensidade dos ventos alísios.  Como esses problemas são altamente dependentes da capacidade do modelo descrever o processo de dispersão de energia, vamos fazer simulações com o modelo de água rasa 2D:\n",
    "\n",
    "$\\frac{\\partial u}{\\partial t}+u\\frac{\\partial u}{\\partial x} + v\\frac{\\partial u}{\\partial y} - fv + \\frac{\\partial \\phi}{\\partial x} = F_u$\n",
    "\n",
    "$\\frac{\\partial v}{\\partial t}+u\\frac{\\partial v}{\\partial x} + v\\frac{\\partial v}{\\partial y} - fu + \\frac{\\partial \\phi}{\\partial y} = F_v$\n",
    "\n",
    "$\\frac{\\partial \\phi}{\\partial t}+u\\frac{\\partial \\phi}{\\partial x} + v\\frac{\\partial \\phi}{\\partial y} +\\phi.Div(V) = F_{\\phi}$\n",
    "\n",
    "Onde $F_u$, $F_v$, $F_{\\phi}$ representam fontes de momentum zonal, meridional e massa, respectivamente.\n",
    "\n",
    "a. Resolva em 2D o modelo de água rasa (1) na versão linear, com estado básico U = 0, supondo que \n",
    "- i. f = 0\n",
    "- f = f$_o$ = constante (assuma que a latitude é 20°S)\n",
    "- f = $\\beta$y (ou seja, o plano beta equatorial). Suponha que a latitude máxima seja de +/- 4000 km, com dx=dy=100 km. Na longitude também considere o domínio +/- 4000 km.\n",
    "- Opções de fonte (um problema meteorológico e outro oceanográfico) - escolha uma deles:\n",
    "   - $\\bf A.$ Aplique a fonte de massa na atmosfera constante no tempo. A estrutura espacial da fonte é dada por uma Gaussiana (use Nr$_x$=Nr$_y$= 4 e 10 - isto é, fonte pequena e fonte grande). Considere que a fonte esteja centrada na latitude de +1500 km e longitude 0 (centro da malha em x). Use o domínio horizontal de 8000 km. Use CF aberta radiacional nas fronteiras. Utilize `H=250` m e integre por 3 dias.\n",
    "   - $\\bf B.$ Fonte de momentum zonal, constante (vento forçante de leste), com gaussiana centrada no equador, alongada na direção zonal. (Nr$_x$=10 e Nr$_y$=4) para representar a troca de momentum (representado o processo de formação do ENSO). Centre a fonte de momentum na longitude 0. Use CF radiacional na fronteira oeste, norte e sul e CF rígida na fronteira leste. Use `H = 1 m` (sim, um metro!). Integre até que a onda que vai para leste atinja a costa e comece a refletir para o centro da grade. Como vai demorar muito tempo, faça os testes do modelo com `H = 250 m`. Só depois que você tiver removido todas as \"funcionalidades não documentadas\" do modelo (i.e., os \"bugs\"), faça uma integração com o H mais realista."
   ]
  },
  {
   "cell_type": "code",
   "execution_count": 19,
   "metadata": {},
   "outputs": [
    {
     "data": {
      "image/png": "[encoded data removed]",
      "text/plain": [
       "<Figure size 432x288 with 2 Axes>"
      ]
     },
     "metadata": {
      "needs_background": "light"
     },
     "output_type": "display_data"
    }
   ],
   "source": [
    "import time\n",
    "import numpy as np\n",
    "import matplotlib.pyplot as plt\n",
    "\n",
    "# Parâmetros físicos --------------------------------\n",
    "g = 9.81    # Aceleração da gravidade [m/s^2]\n",
    "H = 1       # Altura do fluido [m]\n",
    "f = 0       # Coriolis [1/s]\n",
    "\n",
    "Nx, Ny, dx, dy, Nt, dt  = 41, 41, 100, 100, 501, 10\n",
    "x, _ = np.linspace(-(Nx-1)*dx, (Nx-1)*dx, Nx, retstep = True)  # Array with x-points\n",
    "y, _ = np.linspace(-(Ny-1)*dy, (Ny-1)*dy, Ny, retstep = True)  # Array with y-points\n",
    "X, Y = np.meshgrid(x, y)                              # Meshgrid for plotting\n",
    "X = np.transpose(X)                                   # To get plots right\n",
    "Y = np.transpose(Y)                                   # To get plots right\n",
    "Nrx = 10                                              # Length wave in x axis\n",
    "Nry = 4                                               # Length wave in y axis\n",
    "time_step = 1\n",
    "#dt = 0.1*min(dx, dy)/np.sqrt(g*H)                     # Time step (defined from the CFL condition)\n",
    "#param_string += \"\\ndx = {:.2f} km\\ndy = {:.2f} km\\ndt = {:.2f} s\".format(dx, dy, dt)\n",
    "\n",
    "# Fonte de momentum zonal, constante\n",
    "Fu = 10*(np.exp(-X**2/(Nrx*200)**2 - Y**2/(Nry*100)**2))\n",
    "fig, ax = plt.subplots(1)\n",
    "im = ax.contourf(X, Y, Fu)\n",
    "cbar = fig.colorbar(im, ax=ax, orientation=\"vertical\")\n",
    "ax.grid(True)\n",
    "\n",
    "# Allocating arrays and initial conditions\n",
    "# ----------------------------------------------------------\n",
    "u_n   = np.zeros((Nx-1, Ny-1))  # current time step\n",
    "u_np1 = np.zeros((Nx-1, Ny-1))  # next time step\n",
    "v_n   = np.zeros((Nx-1, Ny-1))  # current time step\n",
    "v_np1 = np.zeros((Nx-1, Ny-1))  # next time step\n",
    "h_n   = np.zeros((Nx-2, Ny-2))  # current time step\n",
    "h_np1 = np.zeros((Nx-2, Ny-2))  # next time step\n",
    "\n",
    "# Initial conditions for u and v\n",
    "u_n[:, :] = 0.0             # Initial condition for u\n",
    "v_n[:, :] = 0.0             # Initial condition for u\n",
    "u_n[-1, :] = 0.0            # Ensuring initial u satisfy BC\n",
    "v_n[:, -1] = 0.0            # Ensuring initial v satisfy BC\n",
    "\n",
    "t_0 = time.perf_counter()  # For timing the computation loop\n",
    "\n",
    "# for n in range(1, Nt):\n",
    "#     if n == 1:\n",
    "#         u_np1[:-1, :] = u_n[:-1, :] - g*dt/dx*(h_n[1:, :] - h_n[:-1, :])\n",
    "#         v_np1[:, :-1] = v_n[:, :-1] - g*dt/dx*(h_n[:, 1:] - h_n[:, :-1])\n",
    "        \n",
    "#         u_np1[-1, :] = 0\n",
    "#         v_np1[:, -1] = 0\n",
    "        \n",
    "        \n",
    "        "
   ]
  },
  {
   "cell_type": "code",
   "execution_count": null,
   "metadata": {},
   "outputs": [],
   "source": []
  },
  {
   "cell_type": "code",
   "execution_count": null,
   "metadata": {},
   "outputs": [],
   "source": []
  }
 ],
 "metadata": {
  "celltoolbar": "Slideshow",
  "kernelspec": {
   "display_name": "Python 3.9.13 ('py39')",
   "language": "python",
   "name": "python3"
  },
  "language_info": {
   "codemirror_mode": {
    "name": "ipython",
    "version": 3
   },
   "file_extension": ".py",
   "mimetype": "text/x-python",
   "name": "python",
   "nbconvert_exporter": "python",
   "pygments_lexer": "ipython3",
   "version": "3.9.13"
  },
  "vscode": {
   "interpreter": {
    "hash": "c599de7db35b5fc05a9f8090b96e07bcf4fa91860437ccaf4d146c5751724245"
   }
  }
 },
 "nbformat": 4,
 "nbformat_minor": 4
}
