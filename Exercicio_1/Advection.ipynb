{
 "cells": [
  {
   "cell_type": "markdown",
   "metadata": {},
   "source": [
    "## Transporte de um pulso inicial de poluição numa situação em que o vento seja constante\n",
    " Alejandro Delgado Peralta\n"
   ]
  },
  {
   "cell_type": "markdown",
   "metadata": {},
   "source": [
    "## Exercicio com aproximação de primeiro ordem, progressivo no tempo e regressivo no espaço.\n",
    "Temos uma equação da adveção em 1D:\n",
    "\n",
    "$$\n",
    "\\frac{\\partial C}{\\partial t} + U*\\frac{\\partial C}{\\partial x} = 0,\n",
    "$$"
   ]
  },
  {
   "cell_type": "markdown",
   "metadata": {},
   "source": [
    "A condição inicial (CI) dada por uma gaussiana centrada em i=51, com decaimiento exponencial dado por `nr` (número de pontos) onde a amplitude da perturbação cai de um fator e:\n",
    "\n",
    "$$\n",
    "C(x,0) = C_{i,0} = C_0 \\exp[\\frac{-(i\\Delta x - 51\\Delta x)^2}{(nr*\\Delta x)^2}]\n",
    "$$\n",
    "\n",
    "CFL:\n",
    "$$\n",
    "U*\\frac{\\Delta t}{\\Delta x} < 1\n",
    "$$"
   ]
  },
  {
   "cell_type": "code",
   "execution_count": 47,
   "metadata": {},
   "outputs": [],
   "source": [
    "import numpy as np\n",
    "import matplotlib.pyplot as plt\n",
    "\n",
    "def Conc(i, idx, nr, Co, dx):\n",
    "    \"\"\"\n",
    "    Função de concentração com variação Gaussiana\n",
    "    ---------------------------------------------\n",
    "    i:      index\n",
    "    idx:    central index\n",
    "    nr:     número de pontos a partir do centro da gaussiana\n",
    "    dx:     variação espacial em metros.\n",
    "    Co:     Concentração do poluente, por exemplo ug/m3 em PM10\n",
    "    \"\"\"\n",
    "\n",
    "    Conc = Co*np.exp(-(i*dx - idx*dx)**2/(nr*dx)**2)\n",
    "\n",
    "    return Conc\n",
    "\n",
    "\n",
    "def sol_num(idx, d_passos, aprox, cond_front, fun, hora, Co, dx, U_wind):\n",
    "    \"\"\"\n",
    "    idx         : Ponto da grade.\n",
    "    dpasos      : integer\n",
    "    aprox       : Tipo de aproximação: \"ordem1\", \"leapfrog\", \"ordem4\", \"Matsuno\", \"implicito\", \"RK4\" (Runge Kutta 4).\n",
    "    cond_front  : Condição de fronteira, tipo \"fixa\", \"periódica\" e \"radiacional\".\n",
    "    fun         : Função tipo \"Gaussiana\" e \"Retângulo\"\n",
    "    hora        : Tempo em horas (int)\n",
    "    Co          : Concentração do poluente, por exemplo ug/m3 em PM10\n",
    "    dx          : Resolução espacial em m\n",
    "    \"\"\"\n",
    "\n",
    "    Nx     = 101                # pontos totais da malha 1D\n",
    "    Tempo  = hora*3600          # tempo total em segundos\n",
    "    #dt     = dx/U_wind         # para ter CFL = 1\n",
    "    dt     = 3*dx/1000          # passo de tempo , 6*dx/1000 baseado na recomendação WRF-Chem\n",
    "    Nt     = int(Tempo/dt)      # número de passos de tempo\n",
    "    U_wind                      # vento zonal m/s\n",
    "    CFL = U_wind*dt/dx          # Courant number, ou CFL-number\n",
    "    C = np.zeros((Nx+1,Nt+1))   # Matriz\n",
    "\n",
    "    if fun == \"Gaussiana\":\n",
    "        fig, ax = plt.subplots(2,1, figsize=[10,8], sharex = True, gridspec_kw={'hspace':0.1} )\n",
    "    \n",
    "    if fun == \"Retângulo\":\n",
    "        fig, ax1 = plt.subplots(1,1, figsize=[8, 5])\n",
    "\n",
    "    for j, nr in enumerate([10, 2]):\n",
    "\n",
    "        # Condições iniciais\n",
    "        # -------------------\n",
    "        for i in range(Nx+1):\n",
    "            if fun == \"Gaussiana\":\n",
    "                C[i,0] = Conc(i, idx, nr, Co, dx)\n",
    "\n",
    "            elif fun == \"Retângulo\":\n",
    "                C[[int(idx - 2/2), idx, int(idx + 2/2)], 0] = 1/2*Co\n",
    "\n",
    "        if fun == \"Gaussiana\":\n",
    "            ax[j].plot(C[:,0], color = 'b', lw=3, label=\"Condição inicial\")\n",
    "\n",
    "        elif fun  == \"Retângulo\":\n",
    "            ax1.plot(C[:,0], color = 'b', lw=3, label=\"Condição inicial\")\n",
    "\n",
    "        for n in range(1, Nt+1):\n",
    "   \n",
    "            if n % d_passos == 0:\n",
    "                if fun == \"Gaussiana\":\n",
    "                    ax[j].plot(C[:,n-1], color='m', linestyle='dashed', label=f\"PT {n}\")\n",
    "                \n",
    "                elif fun  == \"Retângulo\":\n",
    "                    ax1.plot(C[:,n-1], color='m', linestyle='dashed', label=f\"PT {n}\") \n",
    "\n",
    "            for i in range(1,Nx+1):\n",
    "                # Aproximação numérica:\n",
    "                # ---------------------\n",
    "                if aprox == \"ordem1\":\n",
    "                    C[i,n] = C[i, n-1] - U_wind*dt/dx*(C[i, n-1]- C[i-1, n-1])\n",
    "                \n",
    "                elif aprox == \"leapfrog\":\n",
    "                    C[i,n+1] = C[i, n-1] - U_wind*dt/dx*(C[i+1, n]- C[i-1, n])\n",
    "\n",
    "                # Condição de fronteira\n",
    "                # ---------------------\n",
    "                if cond_front == 'fixa':\n",
    "                    C[[0,-1], n-1] = [0,0]\n",
    "\n",
    "                elif cond_front == 'periódica':\n",
    "                    C[[0, 1], n] = C[[-1,-2],n-1]\n",
    "                \n",
    "                elif cond_front == 'radiacional':\n",
    "                    C[-1, n-1] = C[-1, n-1]\n",
    "\n",
    "        if fun == \"Gaussiana\":\n",
    "            ax[j].plot(C[:,-1], color='g', lw=3, label = f\"Final {Tempo/3600} horas \")\n",
    "            ax[j].set_ylabel(\"PM$_{10}$ ($\\mu$g.m$^{-3}$)\")\n",
    "            \n",
    "            ax[j].set_title(\"Variação da concentração\"+f\" para $\\Delta$t = {dt} segundos, $\\Delta$x = {dx} metros e nr = {nr}.\",loc='left')\n",
    "            ax[0].legend(fontsize=8, ncol=2)\n",
    "\n",
    "            ax[1].set_xlabel(\"Pontos da grade\")\n",
    "            ax[1].text(2,3, r\"$\\vec U$ = \"+ f\"{U_wind} m/s.\", fontsize=12)\n",
    "            ax[1].text(2,4, f\"CFL = {CFL}\", fontsize=12)\n",
    "\n",
    "        elif fun  == \"Retângulo\":\n",
    "            ax1.plot(C[:,-1], color='g', lw=3, label = f\"Final {Tempo/3600} horas \")\n",
    "            ax1.set_ylabel(\"PM$_{10}$ ($\\mu$g.m$^{-3}$)\")\n",
    "            \n",
    "            ax1.set_title(\"Variação da concentração\"+f\" para $\\Delta$t = {dt} segundos, $\\Delta$x = {dx} metros.\",loc='left', fontsize=8)\n",
    "            ax1.legend(fontsize=8, ncol=2)\n",
    "\n",
    "            ax1.set_xlabel(\"Pontos da grade\")\n",
    "            ax1.text(2,3, r\"$\\vec U$ = \"+ f\"{U_wind} m/s.\", fontsize=12)\n",
    "            ax1.text(2,4, f\"CFL = {CFL}\", fontsize=12)\n",
    "\n",
    "        fig.suptitle(f\"Solução numérica com função {fun} \\n e condição de fronteira de tipo {cond_front}\", fontweight='bold', y = 0.99 )\n",
    "        fig.savefig(\"fig/\" + aprox + \"_\" + fun[:3] + \"_\" + cond_front[:3] +\"_\" + str(hora) +\".png\", dpi = 300, bbox_inches='tight', facecolor='w')\n",
    "    \n",
    "    return C\n",
    "\n"
   ]
  },
  {
   "cell_type": "code",
   "execution_count": 50,
   "metadata": {},
   "outputs": [
    {
     "ename": "IndexError",
     "evalue": "index 102 is out of bounds for axis 0 with size 102",
     "output_type": "error",
     "traceback": [
      "\u001b[0;31m---------------------------------------------------------------------------\u001b[0m",
      "\u001b[0;31mIndexError\u001b[0m                                Traceback (most recent call last)",
      "\u001b[0;32m/var/folders/4k/23yyhx6121s3zk9v_w5d9mzm0000gn/T/ipykernel_1828/1718909630.py\u001b[0m in \u001b[0;36m<module>\u001b[0;34m\u001b[0m\n\u001b[1;32m      3\u001b[0m     \u001b[0;32mfor\u001b[0m \u001b[0mtipo\u001b[0m \u001b[0;32min\u001b[0m \u001b[0;34m[\u001b[0m\u001b[0;34m'fixa'\u001b[0m\u001b[0;34m,\u001b[0m \u001b[0;34m'periódica'\u001b[0m\u001b[0;34m,\u001b[0m \u001b[0;34m'radiacional'\u001b[0m\u001b[0;34m]\u001b[0m\u001b[0;34m:\u001b[0m\u001b[0;34m\u001b[0m\u001b[0;34m\u001b[0m\u001b[0m\n\u001b[1;32m      4\u001b[0m \u001b[0;34m\u001b[0m\u001b[0m\n\u001b[0;32m----> 5\u001b[0;31m         sol_num(idx = 51,\n\u001b[0m\u001b[1;32m      6\u001b[0m                 \u001b[0md_passos\u001b[0m \u001b[0;34m=\u001b[0m \u001b[0;36m300\u001b[0m\u001b[0;34m,\u001b[0m\u001b[0;34m\u001b[0m\u001b[0;34m\u001b[0m\u001b[0m\n\u001b[1;32m      7\u001b[0m                 \u001b[0mcond_front\u001b[0m \u001b[0;34m=\u001b[0m \u001b[0mtipo\u001b[0m\u001b[0;34m,\u001b[0m\u001b[0;34m\u001b[0m\u001b[0;34m\u001b[0m\u001b[0m\n",
      "\u001b[0;32m/var/folders/4k/23yyhx6121s3zk9v_w5d9mzm0000gn/T/ipykernel_1828/3519263689.py\u001b[0m in \u001b[0;36msol_num\u001b[0;34m(idx, d_passos, aprox, cond_front, fun, hora, Co, dx, U_wind)\u001b[0m\n\u001b[1;32m     78\u001b[0m \u001b[0;34m\u001b[0m\u001b[0m\n\u001b[1;32m     79\u001b[0m                 \u001b[0;32melif\u001b[0m \u001b[0maprox\u001b[0m \u001b[0;34m==\u001b[0m \u001b[0;34m\"leapfrog\"\u001b[0m\u001b[0;34m:\u001b[0m\u001b[0;34m\u001b[0m\u001b[0;34m\u001b[0m\u001b[0m\n\u001b[0;32m---> 80\u001b[0;31m                     \u001b[0mC\u001b[0m\u001b[0;34m[\u001b[0m\u001b[0mi\u001b[0m\u001b[0;34m,\u001b[0m\u001b[0mn\u001b[0m\u001b[0;34m+\u001b[0m\u001b[0;36m1\u001b[0m\u001b[0;34m]\u001b[0m \u001b[0;34m=\u001b[0m \u001b[0mC\u001b[0m\u001b[0;34m[\u001b[0m\u001b[0mi\u001b[0m\u001b[0;34m,\u001b[0m \u001b[0mn\u001b[0m\u001b[0;34m-\u001b[0m\u001b[0;36m1\u001b[0m\u001b[0;34m]\u001b[0m \u001b[0;34m-\u001b[0m \u001b[0mU_wind\u001b[0m\u001b[0;34m*\u001b[0m\u001b[0mdt\u001b[0m\u001b[0;34m/\u001b[0m\u001b[0mdx\u001b[0m\u001b[0;34m*\u001b[0m\u001b[0;34m(\u001b[0m\u001b[0mC\u001b[0m\u001b[0;34m[\u001b[0m\u001b[0mi\u001b[0m\u001b[0;34m+\u001b[0m\u001b[0;36m1\u001b[0m\u001b[0;34m,\u001b[0m \u001b[0mn\u001b[0m\u001b[0;34m]\u001b[0m\u001b[0;34m-\u001b[0m \u001b[0mC\u001b[0m\u001b[0;34m[\u001b[0m\u001b[0mi\u001b[0m\u001b[0;34m-\u001b[0m\u001b[0;36m1\u001b[0m\u001b[0;34m,\u001b[0m \u001b[0mn\u001b[0m\u001b[0;34m]\u001b[0m\u001b[0;34m)\u001b[0m\u001b[0;34m\u001b[0m\u001b[0;34m\u001b[0m\u001b[0m\n\u001b[0m\u001b[1;32m     81\u001b[0m \u001b[0;34m\u001b[0m\u001b[0m\n\u001b[1;32m     82\u001b[0m                 \u001b[0;31m# Condição de fronteira\u001b[0m\u001b[0;34m\u001b[0m\u001b[0;34m\u001b[0m\u001b[0m\n",
      "\u001b[0;31mIndexError\u001b[0m: index 102 is out of bounds for axis 0 with size 102"
     ]
    },
    {
     "data": {
      "image/png": "[encoded data removed]",
      "text/plain": [
       "<Figure size 720x576 with 2 Axes>"
      ]
     },
     "metadata": {
      "needs_background": "light"
     },
     "output_type": "display_data"
    }
   ],
   "source": [
    "for f in ['Gaussiana', 'Retângulo']:\n",
    "    \n",
    "    for tipo in ['fixa', 'periódica', 'radiacional']:\n",
    "        \n",
    "        sol_num(idx = 51,\n",
    "                d_passos = 300,\n",
    "                cond_front = tipo,\n",
    "                aprox = \"leapfrog\",\n",
    "                fun = f, \n",
    "                hora = 14, \n",
    "                Co = 10, \n",
    "                dx = 5000, \n",
    "                U_wind = +10)"
   ]
  },
  {
   "cell_type": "code",
   "execution_count": 36,
   "metadata": {},
   "outputs": [
    {
     "name": "stdout",
     "output_type": "stream",
     "text": [
      "AxesSubplot(0.125,0.536818;0.775x0.343182)\n",
      "AxesSubplot(0.125,0.125;0.775x0.343182)\n"
     ]
    },
    {
     "data": {
      "image/png": "[encoded data removed]",
      "text/plain": [
       "<Figure size 576x360 with 2 Axes>"
      ]
     },
     "metadata": {
      "needs_background": "light"
     },
     "output_type": "display_data"
    }
   ],
   "source": [
    "\n"
   ]
  },
  {
   "cell_type": "code",
   "execution_count": null,
   "metadata": {},
   "outputs": [],
   "source": []
  }
 ],
 "metadata": {
  "kernelspec": {
   "display_name": "Python 3.9.13 ('py39')",
   "language": "python",
   "name": "python3"
  },
  "language_info": {
   "codemirror_mode": {
    "name": "ipython",
    "version": 3
   },
   "file_extension": ".py",
   "mimetype": "text/x-python",
   "name": "python",
   "nbconvert_exporter": "python",
   "pygments_lexer": "ipython3",
   "version": "3.9.13"
  },
  "orig_nbformat": 4,
  "vscode": {
   "interpreter": {
    "hash": "c599de7db35b5fc05a9f8090b96e07bcf4fa91860437ccaf4d146c5751724245"
   }
  }
 },
 "nbformat": 4,
 "nbformat_minor": 2
}
